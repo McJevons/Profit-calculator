{
 "cells": [
  {
   "cell_type": "code",
   "execution_count": 1,
   "metadata": {},
   "outputs": [],
   "source": [
    "from decimal import Decimal, ROUND_HALF_UP"
   ]
  },
  {
   "cell_type": "code",
   "execution_count": 2,
   "metadata": {},
   "outputs": [],
   "source": [
    "def round_dec(n, d=2):\n",
    "    s = '0.' + '0' * d\n",
    "    return Decimal(str(n)).quantize(Decimal(s), rounding=ROUND_HALF_UP)"
   ]
  },
  {
   "cell_type": "markdown",
   "metadata": {},
   "source": [
    "## 等额本金\n",
    "每月还款额Fm=每月还款本金+每月还款利息。Pm+Rm\n",
    "\n",
    "每月还款本金Pm=贷款总额/贷款月数 P/M。\n",
    "\n",
    "每月还款利息Rm=贷款本金余额 * 贷款月利率 Pb * i（ 贷款月利率=年利率/12）。\n",
    "\n",
    "贷款本金余额Pb=贷款总额-已还款月数 * 每月还款本金 P-m * Pm"
   ]
  },
  {
   "cell_type": "code",
   "execution_count": 3,
   "metadata": {},
   "outputs": [],
   "source": [
    "def average_capital(P, I, M):\n",
    "    '''\n",
    "    等额本金\n",
    "    返回一个包含每月返款数据元组的迭代器\n",
    "    '''\n",
    "    Pm = Decimal(P) / M  # 每月返本金，每月相等\n",
    "    i = Decimal(I) / 12  # 月利率\n",
    "    for m in range(M):\n",
    "        Pb = P - m * Pm  # 月初本金余额\n",
    "        Rm = Pb * i  # 每月返收益\n",
    "        Fm = Pm + Rm  # 每月返款额\n",
    "        Pe = Pb - Pm  # 月末本金余额\n",
    "        result = (m + 1, Fm, Pm, Rm, Pb, Pe)\n",
    "        yield result"
   ]
  },
  {
   "cell_type": "markdown",
   "metadata": {},
   "source": [
    "## 等额本息\n",
    "本月还息=本月余额×月利率\n",
    "\n",
    "本月还本=每月还款额-本月还息\n",
    "\n",
    "每月还款额=[贷款本金×月利率×（1+月利率）^还款月数]÷[（1+月利率）^还款月数－1]"
   ]
  },
  {
   "cell_type": "code",
   "execution_count": 4,
   "metadata": {},
   "outputs": [],
   "source": [
    "def average_capital_plus_interest(P, I, M):\n",
    "    '''\n",
    "    等额本息\n",
    "    返回一个包含每月返款数据元组的迭代器\n",
    "    '''\n",
    "    P = Decimal(P)\n",
    "    i = Decimal(I) / 12  # 月利率\n",
    "    result = ()\n",
    "    Fm = P * i * ((1 + i)**M) / (((1 + i)**M) - 1)  # 每月返款额，每月相等\n",
    "    for m in range(M):\n",
    "        if not result:  # 此处result为上月数据\n",
    "            Pb = P  # 月初余额，若上月数据不存在则为首月，月初余额为本金\n",
    "        else:\n",
    "            Pb = result[-1]  # 月初余额，为上月月末余额\n",
    "        Rm = Pb * i  # 还息\n",
    "        Pm = Fm - Rm  # 还本\n",
    "        Pe = Pb - Pm  # 月末余额\n",
    "        result = (m + 1, Fm, Pm, Rm, Pb, Pe)\n",
    "        yield result"
   ]
  },
  {
   "cell_type": "code",
   "execution_count": 5,
   "metadata": {},
   "outputs": [],
   "source": [
    "def calculate(P, I, M, func, detail=True):\n",
    "    '''\n",
    "    计算并输出投资收益结果\n",
    "    args:\n",
    "        P:投资金额\n",
    "        I:年收益率\n",
    "        M:投资期数（月）\n",
    "        func:投资模式:\n",
    "                \"ac\":等额本金\n",
    "                \"acpi\":等额本息\n",
    "        detail:boolean,是否打印每期明细\n",
    "    ----------------------------\n",
    "    return:None\n",
    "    '''\n",
    "    func_dict = {'ac': average_capital, 'acpi': average_capital_plus_interest}\n",
    "    f = func_dict[func]\n",
    "    F = Decimal(0)\n",
    "    R = Decimal(0)\n",
    "    for r in f(P, I, M):\n",
    "        F += r[1]\n",
    "        R += r[3]\n",
    "        r = r[0:1] + tuple(map(round_dec, r[1:]))  # 对元组中数字部分四舍五入\n",
    "        if detail: print('第%d月返款额：%s，返本金：%s，返收益，%s，月初本金余额：%s，月末本金余额：%s' % r)\n",
    "    print('返款总额：%s，收益总计：%s' % (round_dec(F), round_dec(R)))"
   ]
  },
  {
   "cell_type": "code",
   "execution_count": 6,
   "metadata": {
    "scrolled": true
   },
   "outputs": [
    {
     "name": "stdout",
     "output_type": "stream",
     "text": [
      "第1月返款额：1691.06，返本金：1649.39，返收益，41.67，月初本金余额：10000.00，月末本金余额：8350.61\n",
      "第2月返款额：1691.06，返本金：1656.26，返收益，34.79，月初本金余额：8350.61，月末本金余额：6694.35\n",
      "第3月返款额：1691.06，返本金：1663.16，返收益，27.89，月初本金余额：6694.35，月末本金余额：5031.18\n",
      "第4月返款额：1691.06，返本金：1670.09，返收益，20.96，月初本金余额：5031.18，月末本金余额：3361.09\n",
      "第5月返款额：1691.06，返本金：1677.05，返收益，14.00，月初本金余额：3361.09，月末本金余额：1684.04\n",
      "第6月返款额：1691.06，返本金：1684.04，返收益，7.02，月初本金余额：1684.04，月末本金余额：-0.00\n",
      "返款总额：10146.34，收益总计：146.34\n"
     ]
    }
   ],
   "source": [
    "calculate(10000, 0.05, 6, 'acpi')"
   ]
  },
  {
   "cell_type": "code",
   "execution_count": 7,
   "metadata": {},
   "outputs": [
    {
     "name": "stdout",
     "output_type": "stream",
     "text": [
      "返款总额：10145.83，收益总计：145.83\n"
     ]
    }
   ],
   "source": [
    "calculate(10000, 0.05, 6, 'ac', False)"
   ]
  },
  {
   "cell_type": "markdown",
   "metadata": {},
   "source": [
    "## 等额本息-复投同利率等额本息 "
   ]
  },
  {
   "cell_type": "code",
   "execution_count": 8,
   "metadata": {},
   "outputs": [],
   "source": [
    "def bxft(M, P, I, m=0, G=0):\n",
    "    i = I / 12\n",
    "    Fm = P * i * ((1 + i)**(M - m)) / (((1 + i)**(M - m)) - 1)\n",
    "    # print('第%s月投资金额：%s，投资单期回款：%s，投资期末收益：%s' % (m+1, P, Fm, Fm*(M-m)-P))\n",
    "    G = G + Fm * (M - m) - P\n",
    "    m += 1\n",
    "    if m < M and m > 1:\n",
    "        return bxft(M, Fm + P, I, m, G)\n",
    "    elif m <= 1:\n",
    "        return bxft(M, Fm, I, m, G)\n",
    "\n",
    "    # print('最终收益：%s' % G)\n",
    "    return G"
   ]
  },
  {
   "cell_type": "code",
   "execution_count": 9,
   "metadata": {},
   "outputs": [
    {
     "data": {
      "text/plain": [
       "432.5974996289442"
      ]
     },
     "execution_count": 9,
     "metadata": {},
     "output_type": "execute_result"
    }
   ],
   "source": [
    "bxft(6, 10000, 0.085)"
   ]
  },
  {
   "cell_type": "markdown",
   "metadata": {},
   "source": [
    "## 收益分析 "
   ]
  },
  {
   "cell_type": "code",
   "execution_count": 10,
   "metadata": {},
   "outputs": [
    {
     "ename": "NameError",
     "evalue": "name 'np' is not defined",
     "output_type": "error",
     "traceback": [
      "\u001b[1;31m---------------------------------------------------------------------------\u001b[0m",
      "\u001b[1;31mNameError\u001b[0m                                 Traceback (most recent call last)",
      "\u001b[1;32m<ipython-input-10-e38b5a3c39ae>\u001b[0m in \u001b[0;36m<module>\u001b[1;34m()\u001b[0m\n\u001b[0;32m      1\u001b[0m \u001b[0mG\u001b[0m \u001b[1;33m=\u001b[0m \u001b[1;33m[\u001b[0m\u001b[1;33m]\u001b[0m\u001b[1;33m\u001b[0m\u001b[0m\n\u001b[1;32m----> 2\u001b[1;33m \u001b[1;32mfor\u001b[0m \u001b[0mm\u001b[0m \u001b[1;32min\u001b[0m \u001b[0mnp\u001b[0m\u001b[1;33m.\u001b[0m\u001b[0marange\u001b[0m\u001b[1;33m(\u001b[0m\u001b[1;36m3\u001b[0m\u001b[1;33m,\u001b[0m \u001b[1;36m37\u001b[0m\u001b[1;33m,\u001b[0m \u001b[1;36m3\u001b[0m\u001b[1;33m)\u001b[0m\u001b[1;33m:\u001b[0m\u001b[1;33m\u001b[0m\u001b[0m\n\u001b[0m\u001b[0;32m      3\u001b[0m     \u001b[0mG\u001b[0m\u001b[1;33m.\u001b[0m\u001b[0mappend\u001b[0m\u001b[1;33m(\u001b[0m\u001b[0mbxft\u001b[0m\u001b[1;33m(\u001b[0m\u001b[0mM\u001b[0m\u001b[1;33m=\u001b[0m\u001b[0mm\u001b[0m\u001b[1;33m,\u001b[0m \u001b[0mI\u001b[0m\u001b[1;33m=\u001b[0m\u001b[1;36m0.085\u001b[0m\u001b[1;33m,\u001b[0m \u001b[0mP\u001b[0m\u001b[1;33m=\u001b[0m\u001b[1;36m10000\u001b[0m\u001b[1;33m)\u001b[0m\u001b[1;33m)\u001b[0m\u001b[1;33m\u001b[0m\u001b[0m\n",
      "\u001b[1;31mNameError\u001b[0m: name 'np' is not defined"
     ]
    }
   ],
   "source": [
    "G = []\n",
    "for m in np.arange(3, 37, 3):\n",
    "    G.append(bxft(M=m, I=0.085, P=10000))"
   ]
  },
  {
   "cell_type": "code",
   "execution_count": null,
   "metadata": {},
   "outputs": [],
   "source": [
    "data = pd.DataFrame({'期数': np.arange(3, 37, 3), '收益': G})\n",
    "data"
   ]
  },
  {
   "cell_type": "code",
   "execution_count": null,
   "metadata": {},
   "outputs": [],
   "source": [
    "data['最终收益率'] = data['收益'] / 10000"
   ]
  },
  {
   "cell_type": "code",
   "execution_count": null,
   "metadata": {},
   "outputs": [],
   "source": [
    "data['年化收益率'] = (12 / data['期数']) * data['收益'] / 10000"
   ]
  },
  {
   "cell_type": "code",
   "execution_count": null,
   "metadata": {},
   "outputs": [],
   "source": []
  }
 ],
 "metadata": {
  "kernelspec": {
   "display_name": "Python 3",
   "language": "python",
   "name": "python3"
  },
  "language_info": {
   "codemirror_mode": {
    "name": "ipython",
    "version": 3
   },
   "file_extension": ".py",
   "mimetype": "text/x-python",
   "name": "python",
   "nbconvert_exporter": "python",
   "pygments_lexer": "ipython3",
   "version": "3.7.0"
  },
  "varInspector": {
   "cols": {
    "lenName": 16,
    "lenType": 16,
    "lenVar": 40
   },
   "kernels_config": {
    "python": {
     "delete_cmd_postfix": "",
     "delete_cmd_prefix": "del ",
     "library": "var_list.py",
     "varRefreshCmd": "print(var_dic_list())"
    },
    "r": {
     "delete_cmd_postfix": ") ",
     "delete_cmd_prefix": "rm(",
     "library": "var_list.r",
     "varRefreshCmd": "cat(var_dic_list()) "
    }
   },
   "types_to_exclude": [
    "module",
    "function",
    "builtin_function_or_method",
    "instance",
    "_Feature"
   ],
   "window_display": false
  }
 },
 "nbformat": 4,
 "nbformat_minor": 2
}

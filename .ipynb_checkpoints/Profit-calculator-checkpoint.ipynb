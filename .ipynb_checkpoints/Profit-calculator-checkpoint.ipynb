{
 "cells": [
  {
   "cell_type": "code",
   "execution_count": 1,
   "metadata": {},
   "outputs": [],
   "source": [
    "import numpy as np\n",
    "import pandas as pd\n",
    "import matplotlib.pyplot as plt\n",
    "import seaborn as sns"
   ]
  },
  {
   "cell_type": "code",
   "execution_count": 2,
   "metadata": {},
   "outputs": [],
   "source": [
    "P = 10000  # 本金\n",
    "I = 0.05  # 年利率\n",
    "i = I / 12  # 月利率\n",
    "M = 12  # 月数"
   ]
  },
  {
   "cell_type": "markdown",
   "metadata": {},
   "source": [
    "## 等额本金\n",
    "每月还款额Fm=每月还款本金+每月还款利息。Pm+Rm\n",
    "\n",
    "每月还款本金Pm=贷款总额/贷款月数 P/M。\n",
    "\n",
    "每月还款利息Rm=贷款本金余额 * 贷款月利率 Pb * i（ 贷款月利率=年利率/12）。\n",
    "\n",
    "贷款本金余额Pb=贷款总额-已还款月数 * 每月还款本金 P-m * Pm"
   ]
  },
  {
   "cell_type": "code",
   "execution_count": 3,
   "metadata": {},
   "outputs": [],
   "source": [
    "def bj(M):\n",
    "    for m in range(M):\n",
    "        Pm = P / M  # 每月还款本金Fp=贷款总额P/贷款月数M\n",
    "        Pb = P - m * Pm  # 贷款本金余额Pb=贷款总额P-已还款月数m*每月还款本金Fp\n",
    "        Rm = Pb * i  # 每月还款利息Rm=贷款本金余额Pb*贷款月利率i\n",
    "        Fm = Pm + Rm  # 每月还款额Fm=每月还款本金Pm+每月还款利息Rm\n",
    "        Pe = Pb - Pm  # 期末余额Pe=贷款本金余额Pb-每月还款本金Pm\n",
    "        # print('第%d月还款额：%f，还款本金：%f，还款利息，%f，期末余额：%f' % (m+1, Fm, Pm, Rm, Pb-Pm))\n",
    "        result = (m + 1, Fm, Pm, Rm, Pb, Pe)\n",
    "        yield result"
   ]
  },
  {
   "cell_type": "code",
   "execution_count": 4,
   "metadata": {},
   "outputs": [
    {
     "name": "stdout",
     "output_type": "stream",
     "text": [
      "第1月还款额：875.000000，还款本金：833.333333，还款利息，41.666667，期初余额：10000.000000，期末余额：9166.666667\n",
      "第2月还款额：871.527778，还款本金：833.333333，还款利息，38.194444，期初余额：9166.666667，期末余额：8333.333333\n",
      "第3月还款额：868.055556，还款本金：833.333333，还款利息，34.722222，期初余额：8333.333333，期末余额：7500.000000\n",
      "第4月还款额：864.583333，还款本金：833.333333，还款利息，31.250000，期初余额：7500.000000，期末余额：6666.666667\n",
      "第5月还款额：861.111111，还款本金：833.333333，还款利息，27.777778，期初余额：6666.666667，期末余额：5833.333333\n",
      "第6月还款额：857.638889，还款本金：833.333333，还款利息，24.305556，期初余额：5833.333333，期末余额：5000.000000\n",
      "第7月还款额：854.166667，还款本金：833.333333，还款利息，20.833333，期初余额：5000.000000，期末余额：4166.666667\n",
      "第8月还款额：850.694444，还款本金：833.333333，还款利息，17.361111，期初余额：4166.666667，期末余额：3333.333333\n",
      "第9月还款额：847.222222，还款本金：833.333333，还款利息，13.888889，期初余额：3333.333333，期末余额：2500.000000\n",
      "第10月还款额：843.750000，还款本金：833.333333，还款利息，10.416667，期初余额：2500.000000，期末余额：1666.666667\n",
      "第11月还款额：840.277778，还款本金：833.333333，还款利息，6.944444，期初余额：1666.666667，期末余额：833.333333\n",
      "第12月还款额：836.805556，还款本金：833.333333，还款利息，3.472222，期初余额：833.333333，期末余额：-0.000000\n"
     ]
    }
   ],
   "source": [
    "for r in bj(M):\n",
    "    print('第%d月还款额：%f，还款本金：%f，还款利息，%f，期初余额：%f，期末余额：%f' % r)"
   ]
  },
  {
   "cell_type": "markdown",
   "metadata": {},
   "source": [
    "## 等额本息\n",
    "本月还息=本月余额×月利率\n",
    "\n",
    "本月还本=每月还款额-本月还息\n",
    "\n",
    "每月还款额=[贷款本金×月利率×（1+月利率）^还款月数]÷[（1+月利率）^还款月数－1]"
   ]
  },
  {
   "cell_type": "code",
   "execution_count": 5,
   "metadata": {},
   "outputs": [
    {
     "data": {
      "text/plain": [
       "856.0748178846745"
      ]
     },
     "execution_count": 5,
     "metadata": {},
     "output_type": "execute_result"
    }
   ],
   "source": [
    "Fm = P * i * ((1 + i)**M) / (((1 + i)**M) - 1)\n",
    "Fm"
   ]
  },
  {
   "cell_type": "code",
   "execution_count": 6,
   "metadata": {},
   "outputs": [],
   "source": [
    "def bx(P, I, M):\n",
    "    i = I / 12\n",
    "    result = None\n",
    "    Fm = P * i * ((1 + i)**M) / (((1 + i)**M) - 1)\n",
    "    for m in range(M):\n",
    "        if not result:  # 期初余额\n",
    "            Pb = P  # 若不存在上期数据即首次运算，期初余额为本金\n",
    "        else:\n",
    "            Pb = result[-1]\n",
    "        Rm = Pb * i  # 还息\n",
    "        Pm = Fm - Rm  # 还本\n",
    "        Pe = Pb - Pm  # 期末余额\n",
    "        result = (m + 1, Fm, Pm, Rm, Pb, Pe)\n",
    "        print('第%d月还款额：%f，还款本金：%f，还款利息，%f，期初余额：%f，期末余额：%f' % result)\n",
    "        yield result"
   ]
  },
  {
   "cell_type": "code",
   "execution_count": 7,
   "metadata": {},
   "outputs": [],
   "source": [
    "bx_df = pd.DataFrame(columns=['月份', '还款额', '还本', '还息', '初期余额', '末期余额'])"
   ]
  },
  {
   "cell_type": "code",
   "execution_count": 8,
   "metadata": {},
   "outputs": [
    {
     "name": "stdout",
     "output_type": "stream",
     "text": [
      "第1月还款额：1691.056440，还款本金：1649.389774，还款利息，41.666667，期初余额：10000.000000，期末余额：8350.610226\n",
      "第2月还款额：1691.056440，还款本金：1656.262231，还款利息，34.794209，期初余额：8350.610226，期末余额：6694.347995\n",
      "第3月还款额：1691.056440，还款本金：1663.163324，还款利息，27.893117，期初余额：6694.347995，期末余额：5031.184672\n",
      "第4月还款额：1691.056440，还款本金：1670.093171，还款利息，20.963269，期初余额：5031.184672，期末余额：3361.091501\n",
      "第5月还款额：1691.056440，还款本金：1677.051892，还款利息，14.004548，期初余额：3361.091501，期末余额：1684.039609\n",
      "第6月还款额：1691.056440，还款本金：1684.039609，还款利息，7.016832，期初余额：1684.039609，期末余额：0.000000\n"
     ]
    },
    {
     "data": {
      "text/html": [
       "<div>\n",
       "<style scoped>\n",
       "    .dataframe tbody tr th:only-of-type {\n",
       "        vertical-align: middle;\n",
       "    }\n",
       "\n",
       "    .dataframe tbody tr th {\n",
       "        vertical-align: top;\n",
       "    }\n",
       "\n",
       "    .dataframe thead th {\n",
       "        text-align: right;\n",
       "    }\n",
       "</style>\n",
       "<table border=\"1\" class=\"dataframe\">\n",
       "  <thead>\n",
       "    <tr style=\"text-align: right;\">\n",
       "      <th></th>\n",
       "      <th>月份</th>\n",
       "      <th>还款额</th>\n",
       "      <th>还本</th>\n",
       "      <th>还息</th>\n",
       "      <th>期初余额</th>\n",
       "      <th>期末余额</th>\n",
       "    </tr>\n",
       "  </thead>\n",
       "  <tbody>\n",
       "    <tr>\n",
       "      <th>0</th>\n",
       "      <td>1</td>\n",
       "      <td>1691.05644</td>\n",
       "      <td>1649.389774</td>\n",
       "      <td>41.666667</td>\n",
       "      <td>10000.000000</td>\n",
       "      <td>8.350610e+03</td>\n",
       "    </tr>\n",
       "    <tr>\n",
       "      <th>1</th>\n",
       "      <td>2</td>\n",
       "      <td>1691.05644</td>\n",
       "      <td>1656.262231</td>\n",
       "      <td>34.794209</td>\n",
       "      <td>8350.610226</td>\n",
       "      <td>6.694348e+03</td>\n",
       "    </tr>\n",
       "    <tr>\n",
       "      <th>2</th>\n",
       "      <td>3</td>\n",
       "      <td>1691.05644</td>\n",
       "      <td>1663.163324</td>\n",
       "      <td>27.893117</td>\n",
       "      <td>6694.347995</td>\n",
       "      <td>5.031185e+03</td>\n",
       "    </tr>\n",
       "    <tr>\n",
       "      <th>3</th>\n",
       "      <td>4</td>\n",
       "      <td>1691.05644</td>\n",
       "      <td>1670.093171</td>\n",
       "      <td>20.963269</td>\n",
       "      <td>5031.184672</td>\n",
       "      <td>3.361092e+03</td>\n",
       "    </tr>\n",
       "    <tr>\n",
       "      <th>4</th>\n",
       "      <td>5</td>\n",
       "      <td>1691.05644</td>\n",
       "      <td>1677.051892</td>\n",
       "      <td>14.004548</td>\n",
       "      <td>3361.091501</td>\n",
       "      <td>1.684040e+03</td>\n",
       "    </tr>\n",
       "    <tr>\n",
       "      <th>5</th>\n",
       "      <td>6</td>\n",
       "      <td>1691.05644</td>\n",
       "      <td>1684.039609</td>\n",
       "      <td>7.016832</td>\n",
       "      <td>1684.039609</td>\n",
       "      <td>7.048584e-12</td>\n",
       "    </tr>\n",
       "  </tbody>\n",
       "</table>\n",
       "</div>"
      ],
      "text/plain": [
       "   月份         还款额           还本         还息          期初余额          期末余额\n",
       "0   1  1691.05644  1649.389774  41.666667  10000.000000  8.350610e+03\n",
       "1   2  1691.05644  1656.262231  34.794209   8350.610226  6.694348e+03\n",
       "2   3  1691.05644  1663.163324  27.893117   6694.347995  5.031185e+03\n",
       "3   4  1691.05644  1670.093171  20.963269   5031.184672  3.361092e+03\n",
       "4   5  1691.05644  1677.051892  14.004548   3361.091501  1.684040e+03\n",
       "5   6  1691.05644  1684.039609   7.016832   1684.039609  7.048584e-12"
      ]
     },
     "execution_count": 8,
     "metadata": {},
     "output_type": "execute_result"
    }
   ],
   "source": [
    "bx_lst = []\n",
    "for r in bx(10000, 0.05, 6):\n",
    "    bx_lst.append(r)\n",
    "bx_df = pd.DataFrame(bx_lst, columns=['月份', '还款额', '还本', '还息', '期初余额', '期末余额'])\n",
    "bx_df"
   ]
  },
  {
   "cell_type": "code",
   "execution_count": 9,
   "metadata": {},
   "outputs": [],
   "source": [
    "bx_df.set_index('月份', inplace=True)"
   ]
  },
  {
   "cell_type": "code",
   "execution_count": 10,
   "metadata": {},
   "outputs": [
    {
     "data": {
      "text/html": [
       "<div>\n",
       "<style scoped>\n",
       "    .dataframe tbody tr th:only-of-type {\n",
       "        vertical-align: middle;\n",
       "    }\n",
       "\n",
       "    .dataframe tbody tr th {\n",
       "        vertical-align: top;\n",
       "    }\n",
       "\n",
       "    .dataframe thead th {\n",
       "        text-align: right;\n",
       "    }\n",
       "</style>\n",
       "<table border=\"1\" class=\"dataframe\">\n",
       "  <thead>\n",
       "    <tr style=\"text-align: right;\">\n",
       "      <th></th>\n",
       "      <th>还款额</th>\n",
       "      <th>还本</th>\n",
       "      <th>还息</th>\n",
       "      <th>期初余额</th>\n",
       "      <th>期末余额</th>\n",
       "    </tr>\n",
       "    <tr>\n",
       "      <th>月份</th>\n",
       "      <th></th>\n",
       "      <th></th>\n",
       "      <th></th>\n",
       "      <th></th>\n",
       "      <th></th>\n",
       "    </tr>\n",
       "  </thead>\n",
       "  <tbody>\n",
       "    <tr>\n",
       "      <th>1</th>\n",
       "      <td>1691.05644</td>\n",
       "      <td>1649.389774</td>\n",
       "      <td>41.666667</td>\n",
       "      <td>10000.000000</td>\n",
       "      <td>8.350610e+03</td>\n",
       "    </tr>\n",
       "    <tr>\n",
       "      <th>2</th>\n",
       "      <td>1691.05644</td>\n",
       "      <td>1656.262231</td>\n",
       "      <td>34.794209</td>\n",
       "      <td>8350.610226</td>\n",
       "      <td>6.694348e+03</td>\n",
       "    </tr>\n",
       "    <tr>\n",
       "      <th>3</th>\n",
       "      <td>1691.05644</td>\n",
       "      <td>1663.163324</td>\n",
       "      <td>27.893117</td>\n",
       "      <td>6694.347995</td>\n",
       "      <td>5.031185e+03</td>\n",
       "    </tr>\n",
       "    <tr>\n",
       "      <th>4</th>\n",
       "      <td>1691.05644</td>\n",
       "      <td>1670.093171</td>\n",
       "      <td>20.963269</td>\n",
       "      <td>5031.184672</td>\n",
       "      <td>3.361092e+03</td>\n",
       "    </tr>\n",
       "    <tr>\n",
       "      <th>5</th>\n",
       "      <td>1691.05644</td>\n",
       "      <td>1677.051892</td>\n",
       "      <td>14.004548</td>\n",
       "      <td>3361.091501</td>\n",
       "      <td>1.684040e+03</td>\n",
       "    </tr>\n",
       "    <tr>\n",
       "      <th>6</th>\n",
       "      <td>1691.05644</td>\n",
       "      <td>1684.039609</td>\n",
       "      <td>7.016832</td>\n",
       "      <td>1684.039609</td>\n",
       "      <td>7.048584e-12</td>\n",
       "    </tr>\n",
       "  </tbody>\n",
       "</table>\n",
       "</div>"
      ],
      "text/plain": [
       "           还款额           还本         还息          期初余额          期末余额\n",
       "月份                                                                \n",
       "1   1691.05644  1649.389774  41.666667  10000.000000  8.350610e+03\n",
       "2   1691.05644  1656.262231  34.794209   8350.610226  6.694348e+03\n",
       "3   1691.05644  1663.163324  27.893117   6694.347995  5.031185e+03\n",
       "4   1691.05644  1670.093171  20.963269   5031.184672  3.361092e+03\n",
       "5   1691.05644  1677.051892  14.004548   3361.091501  1.684040e+03\n",
       "6   1691.05644  1684.039609   7.016832   1684.039609  7.048584e-12"
      ]
     },
     "execution_count": 10,
     "metadata": {},
     "output_type": "execute_result"
    }
   ],
   "source": [
    "bx_df"
   ]
  },
  {
   "cell_type": "markdown",
   "metadata": {},
   "source": [
    "## 等额本息-复投同利率等额本息 "
   ]
  },
  {
   "cell_type": "code",
   "execution_count": 39,
   "metadata": {},
   "outputs": [],
   "source": [
    "def bxft(M, P, I, m=0, G=0):\n",
    "    i = I / 12\n",
    "    Fm = P * i * ((1 + i)**(M - m)) / (((1 + i)**(M - m)) - 1)\n",
    "    # print('第%s月投资金额：%s，投资单期回款：%s，投资期末收益：%s' % (m+1, P, Fm, Fm*(M-m)-P))\n",
    "    G = G + Fm * (M - m) - P\n",
    "    m += 1\n",
    "    if m < M and m > 1:\n",
    "        return bxft(M, Fm + P, I, m, G)\n",
    "    elif m <= 1:\n",
    "        return bxft(M, Fm, I, m, G)\n",
    "\n",
    "\n",
    "    # print('最终收益：%s' % G)\n",
    "    return G"
   ]
  },
  {
   "cell_type": "code",
   "execution_count": 40,
   "metadata": {},
   "outputs": [
    {
     "data": {
      "text/plain": [
       "432.5974996289442"
      ]
     },
     "execution_count": 40,
     "metadata": {},
     "output_type": "execute_result"
    }
   ],
   "source": [
    "bxft(6, 10000, 0.085)"
   ]
  },
  {
   "cell_type": "markdown",
   "metadata": {},
   "source": [
    "## 收益分析 "
   ]
  },
  {
   "cell_type": "code",
   "execution_count": 41,
   "metadata": {},
   "outputs": [],
   "source": [
    "G = []\n",
    "for m in np.arange(3, 37, 3):\n",
    "    G.append(bxft(M=m, I=0.085, P=10000))"
   ]
  },
  {
   "cell_type": "code",
   "execution_count": 42,
   "metadata": {},
   "outputs": [
    {
     "data": {
      "text/html": [
       "<div>\n",
       "<style scoped>\n",
       "    .dataframe tbody tr th:only-of-type {\n",
       "        vertical-align: middle;\n",
       "    }\n",
       "\n",
       "    .dataframe tbody tr th {\n",
       "        vertical-align: top;\n",
       "    }\n",
       "\n",
       "    .dataframe thead th {\n",
       "        text-align: right;\n",
       "    }\n",
       "</style>\n",
       "<table border=\"1\" class=\"dataframe\">\n",
       "  <thead>\n",
       "    <tr style=\"text-align: right;\">\n",
       "      <th></th>\n",
       "      <th>期数</th>\n",
       "      <th>收益</th>\n",
       "    </tr>\n",
       "  </thead>\n",
       "  <tbody>\n",
       "    <tr>\n",
       "      <th>0</th>\n",
       "      <td>3</td>\n",
       "      <td>214.008762</td>\n",
       "    </tr>\n",
       "    <tr>\n",
       "      <th>1</th>\n",
       "      <td>6</td>\n",
       "      <td>432.597500</td>\n",
       "    </tr>\n",
       "    <tr>\n",
       "      <th>2</th>\n",
       "      <td>9</td>\n",
       "      <td>655.864227</td>\n",
       "    </tr>\n",
       "    <tr>\n",
       "      <th>3</th>\n",
       "      <td>12</td>\n",
       "      <td>883.909059</td>\n",
       "    </tr>\n",
       "    <tr>\n",
       "      <th>4</th>\n",
       "      <td>15</td>\n",
       "      <td>1116.834250</td>\n",
       "    </tr>\n",
       "    <tr>\n",
       "      <th>5</th>\n",
       "      <td>18</td>\n",
       "      <td>1354.744243</td>\n",
       "    </tr>\n",
       "    <tr>\n",
       "      <th>6</th>\n",
       "      <td>21</td>\n",
       "      <td>1597.745720</td>\n",
       "    </tr>\n",
       "    <tr>\n",
       "      <th>7</th>\n",
       "      <td>24</td>\n",
       "      <td>1845.947640</td>\n",
       "    </tr>\n",
       "    <tr>\n",
       "      <th>8</th>\n",
       "      <td>27</td>\n",
       "      <td>2099.461300</td>\n",
       "    </tr>\n",
       "    <tr>\n",
       "      <th>9</th>\n",
       "      <td>30</td>\n",
       "      <td>2358.400373</td>\n",
       "    </tr>\n",
       "    <tr>\n",
       "      <th>10</th>\n",
       "      <td>33</td>\n",
       "      <td>2622.880970</td>\n",
       "    </tr>\n",
       "    <tr>\n",
       "      <th>11</th>\n",
       "      <td>36</td>\n",
       "      <td>2893.021683</td>\n",
       "    </tr>\n",
       "  </tbody>\n",
       "</table>\n",
       "</div>"
      ],
      "text/plain": [
       "    期数           收益\n",
       "0    3   214.008762\n",
       "1    6   432.597500\n",
       "2    9   655.864227\n",
       "3   12   883.909059\n",
       "4   15  1116.834250\n",
       "5   18  1354.744243\n",
       "6   21  1597.745720\n",
       "7   24  1845.947640\n",
       "8   27  2099.461300\n",
       "9   30  2358.400373\n",
       "10  33  2622.880970\n",
       "11  36  2893.021683"
      ]
     },
     "execution_count": 42,
     "metadata": {},
     "output_type": "execute_result"
    }
   ],
   "source": [
    "data = pd.DataFrame({'期数': np.arange(3, 37, 3), '收益': G})\n",
    "data"
   ]
  },
  {
   "cell_type": "code",
   "execution_count": 43,
   "metadata": {},
   "outputs": [],
   "source": [
    "data['最终收益率'] = data['收益'] / 10000"
   ]
  },
  {
   "cell_type": "code",
   "execution_count": 44,
   "metadata": {},
   "outputs": [],
   "source": [
    "data['年化收益率'] = (12 / data['期数']) * data['收益'] / 10000"
   ]
  },
  {
   "cell_type": "code",
   "execution_count": null,
   "metadata": {},
   "outputs": [],
   "source": []
  }
 ],
 "metadata": {
  "kernelspec": {
   "display_name": "Python 3",
   "language": "python",
   "name": "python3"
  },
  "language_info": {
   "codemirror_mode": {
    "name": "ipython",
    "version": 3
   },
   "file_extension": ".py",
   "mimetype": "text/x-python",
   "name": "python",
   "nbconvert_exporter": "python",
   "pygments_lexer": "ipython3",
   "version": "3.7.0"
  },
  "varInspector": {
   "cols": {
    "lenName": 16,
    "lenType": 16,
    "lenVar": 40
   },
   "kernels_config": {
    "python": {
     "delete_cmd_postfix": "",
     "delete_cmd_prefix": "del ",
     "library": "var_list.py",
     "varRefreshCmd": "print(var_dic_list())"
    },
    "r": {
     "delete_cmd_postfix": ") ",
     "delete_cmd_prefix": "rm(",
     "library": "var_list.r",
     "varRefreshCmd": "cat(var_dic_list()) "
    }
   },
   "types_to_exclude": [
    "module",
    "function",
    "builtin_function_or_method",
    "instance",
    "_Feature"
   ],
   "window_display": false
  }
 },
 "nbformat": 4,
 "nbformat_minor": 2
}

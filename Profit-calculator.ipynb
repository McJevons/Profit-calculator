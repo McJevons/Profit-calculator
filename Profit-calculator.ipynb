{
 "cells": [
  {
   "cell_type": "code",
   "execution_count": 1,
   "metadata": {},
   "outputs": [],
   "source": [
    "from decimal import Decimal, ROUND_HALF_UP"
   ]
  },
  {
   "cell_type": "code",
   "execution_count": 124,
   "metadata": {},
   "outputs": [],
   "source": [
    "def round_dec(n, d=2):\n",
    "    '''\n",
    "    对输入的n做四舍五入运算，并输出结果\n",
    "    args:\n",
    "        n:需要四舍五入的数字\n",
    "        d:保留小数位数，默认=2\n",
    "    -----------------\n",
    "    return:\n",
    "        返回Decimal格式的结果\n",
    "    '''\n",
    "    s = '0.'\n",
    "    for x in range(d):\n",
    "        s += '0'\n",
    "    n = Decimal(n)\n",
    "    return n.quantize(Decimal(s), rounding=ROUND_HALF_UP)"
   ]
  },
  {
   "cell_type": "markdown",
   "metadata": {},
   "source": [
    "## 等额本金\n",
    "每月还款额Fm=每月还款本金+每月还款利息。Pm+Rm\n",
    "\n",
    "每月还款本金Pm=贷款总额/贷款月数 P/M。\n",
    "\n",
    "每月还款利息Rm=贷款本金余额 * 贷款月利率 Pb * i（ 贷款月利率=年利率/12）。\n",
    "\n",
    "贷款本金余额Pb=贷款总额-已还款月数 * 每月还款本金 P-m * Pm"
   ]
  },
  {
   "cell_type": "code",
   "execution_count": 134,
   "metadata": {},
   "outputs": [],
   "source": [
    "def average_capital(P, I, M):\n",
    "    '''\n",
    "    等额本金\n",
    "    返回一个包含每月返款数据元组的迭代器\n",
    "    '''\n",
    "    Pm = Decimal(P) / M  # 每月返本金，每月相等\n",
    "    i = Decimal(I) / 12  # 月利率\n",
    "    for m in range(M):\n",
    "        Pb = P - m * Pm  # 月初本金余额\n",
    "        Rm = Pb * i  # 每月返收益\n",
    "        Fm = Pm + Rm  # 每月返款额\n",
    "        Pe = Pb - Pm  # 月末本金余额\n",
    "        result = (m + 1, Fm, Pm, Rm, Pb, Pe)\n",
    "        yield result"
   ]
  },
  {
   "cell_type": "markdown",
   "metadata": {},
   "source": [
    "## 等额本息\n",
    "本月还息=本月余额×月利率\n",
    "\n",
    "本月还本=每月还款额-本月还息\n",
    "\n",
    "每月还款额=[贷款本金×月利率×（1+月利率）^还款月数]÷[（1+月利率）^还款月数－1]"
   ]
  },
  {
   "cell_type": "code",
   "execution_count": 135,
   "metadata": {},
   "outputs": [],
   "source": [
    "def average_capital_plus_interest(P, I, M):\n",
    "    '''\n",
    "    等额本息\n",
    "    返回一个包含每月返款数据元组的迭代器\n",
    "    '''\n",
    "    P = Decimal(P)\n",
    "    i = Decimal(I) / 12  # 月利率\n",
    "    result = ()\n",
    "    Fm = P * i * ((1 + i)**M) / (((1 + i)**M) - 1)  # 每月返款额，每月相等\n",
    "    for m in range(M):\n",
    "        if not result:  # 此处result为上月数据\n",
    "            Pb = P  # 月初余额，若上月数据不存在则为首月，月初余额为本金\n",
    "        else:\n",
    "            Pb = result[-1]  # 月初余额，为上月月末余额\n",
    "        Rm = Pb * i  # 还息\n",
    "        Pm = Fm - Rm  # 还本\n",
    "        Pe = Pb - Pm  # 月末余额\n",
    "        result = (m + 1, Fm, Pm, Rm, Pb, Pe)\n",
    "        yield result"
   ]
  },
  {
   "cell_type": "code",
   "execution_count": 127,
   "metadata": {},
   "outputs": [],
   "source": [
    "def calculate(P, I, M, func, detail=True):\n",
    "    '''\n",
    "    计算并输出投资收益结果\n",
    "    args:\n",
    "        P:投资金额\n",
    "        I:年收益率\n",
    "        M:投资期数（月）\n",
    "        func:投资模式:\n",
    "                \"ac\":等额本金\n",
    "                \"acpi\":等额本息\n",
    "        detail:boolean,是否打印每期明细\n",
    "    ----------------------------\n",
    "    return:None\n",
    "    '''\n",
    "    func_dict = {'ac': average_capital, 'acpi': average_capital_plus_interest}\n",
    "    f = func_dict[func]\n",
    "    F = Decimal(0)\n",
    "    R = Decimal(0)\n",
    "    for r in f(P, I, M):\n",
    "        F += r[1]\n",
    "        R += r[3]\n",
    "        r = r[0:1] + tuple(map(round_dec, r[1:]))  # 对元组中数字部分四舍五入\n",
    "        if detail: print('第%d月返款额：%s，返本金：%s，返收益，%s，月初本金余额：%s，月末本金余额：%s' % r)\n",
    "    print('返款总额：%s，收益总计：%s' % (round_dec(F), round_dec(R)))"
   ]
  },
  {
   "cell_type": "code",
   "execution_count": 142,
   "metadata": {
    "scrolled": true
   },
   "outputs": [
    {
     "name": "stdout",
     "output_type": "stream",
     "text": [
      "返款总额：11322740.19，收益总计：1322740.19\n"
     ]
    }
   ],
   "source": [
    "calculate(10000000, 0.05, 60, 'acpi', False)"
   ]
  },
  {
   "cell_type": "code",
   "execution_count": 143,
   "metadata": {},
   "outputs": [
    {
     "name": "stdout",
     "output_type": "stream",
     "text": [
      "返款总额：11270833.33，收益总计：1270833.33\n"
     ]
    }
   ],
   "source": [
    "calculate(10000000, 0.05, 60, 'ac', False)"
   ]
  },
  {
   "cell_type": "markdown",
   "metadata": {},
   "source": [
    "## 等额本息-复投同利率等额本息 "
   ]
  },
  {
   "cell_type": "code",
   "execution_count": 39,
   "metadata": {},
   "outputs": [],
   "source": [
    "def bxft(M, P, I, m=0, G=0):\n",
    "    i = I / 12\n",
    "    Fm = P * i * ((1 + i)**(M - m)) / (((1 + i)**(M - m)) - 1)\n",
    "    # print('第%s月投资金额：%s，投资单期回款：%s，投资期末收益：%s' % (m+1, P, Fm, Fm*(M-m)-P))\n",
    "    G = G + Fm * (M - m) - P\n",
    "    m += 1\n",
    "    if m < M and m > 1:\n",
    "        return bxft(M, Fm + P, I, m, G)\n",
    "    elif m <= 1:\n",
    "        return bxft(M, Fm, I, m, G)\n",
    "\n",
    "    # print('最终收益：%s' % G)\n",
    "    return G"
   ]
  },
  {
   "cell_type": "code",
   "execution_count": 40,
   "metadata": {},
   "outputs": [
    {
     "data": {
      "text/plain": [
       "432.5974996289442"
      ]
     },
     "execution_count": 40,
     "metadata": {},
     "output_type": "execute_result"
    }
   ],
   "source": [
    "bxft(6, 10000, 0.085)"
   ]
  },
  {
   "cell_type": "markdown",
   "metadata": {},
   "source": [
    "## 收益分析 "
   ]
  },
  {
   "cell_type": "code",
   "execution_count": 41,
   "metadata": {},
   "outputs": [],
   "source": [
    "G = []\n",
    "for m in np.arange(3, 37, 3):\n",
    "    G.append(bxft(M=m, I=0.085, P=10000))"
   ]
  },
  {
   "cell_type": "code",
   "execution_count": 42,
   "metadata": {},
   "outputs": [
    {
     "data": {
      "text/html": [
       "<div>\n",
       "<style scoped>\n",
       "    .dataframe tbody tr th:only-of-type {\n",
       "        vertical-align: middle;\n",
       "    }\n",
       "\n",
       "    .dataframe tbody tr th {\n",
       "        vertical-align: top;\n",
       "    }\n",
       "\n",
       "    .dataframe thead th {\n",
       "        text-align: right;\n",
       "    }\n",
       "</style>\n",
       "<table border=\"1\" class=\"dataframe\">\n",
       "  <thead>\n",
       "    <tr style=\"text-align: right;\">\n",
       "      <th></th>\n",
       "      <th>期数</th>\n",
       "      <th>收益</th>\n",
       "    </tr>\n",
       "  </thead>\n",
       "  <tbody>\n",
       "    <tr>\n",
       "      <th>0</th>\n",
       "      <td>3</td>\n",
       "      <td>214.008762</td>\n",
       "    </tr>\n",
       "    <tr>\n",
       "      <th>1</th>\n",
       "      <td>6</td>\n",
       "      <td>432.597500</td>\n",
       "    </tr>\n",
       "    <tr>\n",
       "      <th>2</th>\n",
       "      <td>9</td>\n",
       "      <td>655.864227</td>\n",
       "    </tr>\n",
       "    <tr>\n",
       "      <th>3</th>\n",
       "      <td>12</td>\n",
       "      <td>883.909059</td>\n",
       "    </tr>\n",
       "    <tr>\n",
       "      <th>4</th>\n",
       "      <td>15</td>\n",
       "      <td>1116.834250</td>\n",
       "    </tr>\n",
       "    <tr>\n",
       "      <th>5</th>\n",
       "      <td>18</td>\n",
       "      <td>1354.744243</td>\n",
       "    </tr>\n",
       "    <tr>\n",
       "      <th>6</th>\n",
       "      <td>21</td>\n",
       "      <td>1597.745720</td>\n",
       "    </tr>\n",
       "    <tr>\n",
       "      <th>7</th>\n",
       "      <td>24</td>\n",
       "      <td>1845.947640</td>\n",
       "    </tr>\n",
       "    <tr>\n",
       "      <th>8</th>\n",
       "      <td>27</td>\n",
       "      <td>2099.461300</td>\n",
       "    </tr>\n",
       "    <tr>\n",
       "      <th>9</th>\n",
       "      <td>30</td>\n",
       "      <td>2358.400373</td>\n",
       "    </tr>\n",
       "    <tr>\n",
       "      <th>10</th>\n",
       "      <td>33</td>\n",
       "      <td>2622.880970</td>\n",
       "    </tr>\n",
       "    <tr>\n",
       "      <th>11</th>\n",
       "      <td>36</td>\n",
       "      <td>2893.021683</td>\n",
       "    </tr>\n",
       "  </tbody>\n",
       "</table>\n",
       "</div>"
      ],
      "text/plain": [
       "    期数           收益\n",
       "0    3   214.008762\n",
       "1    6   432.597500\n",
       "2    9   655.864227\n",
       "3   12   883.909059\n",
       "4   15  1116.834250\n",
       "5   18  1354.744243\n",
       "6   21  1597.745720\n",
       "7   24  1845.947640\n",
       "8   27  2099.461300\n",
       "9   30  2358.400373\n",
       "10  33  2622.880970\n",
       "11  36  2893.021683"
      ]
     },
     "execution_count": 42,
     "metadata": {},
     "output_type": "execute_result"
    }
   ],
   "source": [
    "data = pd.DataFrame({'期数': np.arange(3, 37, 3), '收益': G})\n",
    "data"
   ]
  },
  {
   "cell_type": "code",
   "execution_count": 43,
   "metadata": {},
   "outputs": [],
   "source": [
    "data['最终收益率'] = data['收益'] / 10000"
   ]
  },
  {
   "cell_type": "code",
   "execution_count": 44,
   "metadata": {},
   "outputs": [],
   "source": [
    "data['年化收益率'] = (12 / data['期数']) * data['收益'] / 10000"
   ]
  },
  {
   "cell_type": "code",
   "execution_count": null,
   "metadata": {},
   "outputs": [],
   "source": []
  }
 ],
 "metadata": {
  "kernelspec": {
   "display_name": "Python 3",
   "language": "python",
   "name": "python3"
  },
  "language_info": {
   "codemirror_mode": {
    "name": "ipython",
    "version": 3
   },
   "file_extension": ".py",
   "mimetype": "text/x-python",
   "name": "python",
   "nbconvert_exporter": "python",
   "pygments_lexer": "ipython3",
   "version": "3.7.0"
  },
  "varInspector": {
   "cols": {
    "lenName": 16,
    "lenType": 16,
    "lenVar": 40
   },
   "kernels_config": {
    "python": {
     "delete_cmd_postfix": "",
     "delete_cmd_prefix": "del ",
     "library": "var_list.py",
     "varRefreshCmd": "print(var_dic_list())"
    },
    "r": {
     "delete_cmd_postfix": ") ",
     "delete_cmd_prefix": "rm(",
     "library": "var_list.r",
     "varRefreshCmd": "cat(var_dic_list()) "
    }
   },
   "types_to_exclude": [
    "module",
    "function",
    "builtin_function_or_method",
    "instance",
    "_Feature"
   ],
   "window_display": false
  }
 },
 "nbformat": 4,
 "nbformat_minor": 2
}
